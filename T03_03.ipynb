{
  "nbformat": 4,
  "nbformat_minor": 0,
  "metadata": {
    "colab": {
      "name": "T03-03.ipynb",
      "provenance": [],
      "collapsed_sections": [],
      "include_colab_link": true
    },
    "kernelspec": {
      "name": "python3",
      "display_name": "Python 3"
    }
  },
  "cells": [
    {
      "cell_type": "markdown",
      "metadata": {
        "id": "view-in-github",
        "colab_type": "text"
      },
      "source": [
        "<a href=\"https://colab.research.google.com/github/jlferrete/python_a-z/blob/main/T03_03.ipynb\" target=\"_parent\"><img src=\"https://colab.research.google.com/assets/colab-badge.svg\" alt=\"Open In Colab\"/></a>"
      ]
    },
    {
      "cell_type": "markdown",
      "metadata": {
        "id": "_cprmeE43x3Q"
      },
      "source": [
        "# Ejercicio\n",
        "\n",
        "Vamos a aprovechar el ejercicio sobre la canción \"Cumpleaños feliz\" y vamos a permitir al usuario elegir a quien va dirigida la canción"
      ]
    },
    {
      "cell_type": "code",
      "metadata": {
        "colab": {
          "base_uri": "https://localhost:8080/"
        },
        "id": "CMA5_vZN3cge",
        "outputId": "0db24ec4-4d69-4d50-c67c-8827614a9048"
      },
      "source": [
        "print(\"Indica el destinitario de la canción:\")\n",
        "name = input()\n",
        "\n",
        "s1 = \"¡Cumpleaños feliz!\"\n",
        "s2 = \"Te deseamos todos\"\n",
        "\n",
        "song = (s1 + \"\\n\") * 2 + s2.replace(\"todos\", name) + \",\\n\" + s1\n",
        "print(song)"
      ],
      "execution_count": null,
      "outputs": [
        {
          "output_type": "stream",
          "text": [
            "Indica el destinitario de la canción:\n",
            "María\n",
            "¡Cumpleaños feliz!\n",
            "¡Cumpleaños feliz!\n",
            "Te deseamos María,\n",
            "¡Cumpleaños feliz!\n"
          ],
          "name": "stdout"
        }
      ]
    },
    {
      "cell_type": "code",
      "metadata": {
        "colab": {
          "base_uri": "https://localhost:8080/"
        },
        "id": "fzEQiOZEBijE",
        "outputId": "03dfbe55-9745-4aba-f332-4fe19159bed5"
      },
      "source": [
        "print(\"Indica el destinitario de la canción:\")\n",
        "name = input()\n",
        "\n",
        "s1 = \"¡Cumpleaños feliz!\"\n",
        "s2 = \"Te deseamos \"\n",
        "\n",
        "song = (s1 + \"\\n\") * 2 + s2 + name + \",\\n\" + s1\n",
        "print(song)"
      ],
      "execution_count": null,
      "outputs": [
        {
          "output_type": "stream",
          "text": [
            "Indica el destinitario de la canción:\n",
            "Claudia\n",
            "¡Cumpleaños feliz!\n",
            "¡Cumpleaños feliz!\n",
            "Te deseamos Claudia,\n",
            "¡Cumpleaños feliz!\n"
          ],
          "name": "stdout"
        }
      ]
    }
  ]
}