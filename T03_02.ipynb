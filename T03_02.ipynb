{
  "nbformat": 4,
  "nbformat_minor": 0,
  "metadata": {
    "colab": {
      "name": "T03-02.ipynb",
      "provenance": [],
      "collapsed_sections": [],
      "include_colab_link": true
    },
    "kernelspec": {
      "name": "python3",
      "display_name": "Python 3"
    }
  },
  "cells": [
    {
      "cell_type": "markdown",
      "metadata": {
        "id": "view-in-github",
        "colab_type": "text"
      },
      "source": [
        "<a href=\"https://colab.research.google.com/github/jlferrete/python_a-z/blob/main/T03_02.ipynb\" target=\"_parent\"><img src=\"https://colab.research.google.com/assets/colab-badge.svg\" alt=\"Open In Colab\"/></a>"
      ]
    },
    {
      "cell_type": "markdown",
      "metadata": {
        "id": "JVBGAW7TD-oC"
      },
      "source": [
        "# Ejercicio\n",
        "\n",
        "Dado un string, vamos a pedir al usuario que introduzca una palabra perteneciente a dicho string y vamos a obtener el substring sin la palabra indicada por el usuario utilizando el método `.find()` y la función `len()`"
      ]
    },
    {
      "cell_type": "code",
      "metadata": {
        "colab": {
          "base_uri": "https://localhost:8080/"
        },
        "id": "i0ZDtL2VIjon",
        "outputId": "42e92339-743f-4588-b154-d9bf0138da44"
      },
      "source": [
        "string = \"El camino está cerrado pero seguro que podemos encontrar una alternativa\"\n",
        "print(\"Este es el string original:\", end = \" \")\n",
        "print(string)\n",
        "\n",
        "print(\"Introduce la palabra que quieras eliminar del string original:\")\n",
        "word = input(\"Palabra: \")\n",
        "\n",
        "idx = string.find(word)\n",
        "substring = string[:idx] + string[(idx + len(word) + 1):]\n",
        "print(substring)"
      ],
      "execution_count": null,
      "outputs": [
        {
          "output_type": "stream",
          "text": [
            "Este es el string original: El camino está cerrado pero seguro que podemos encontrar una alternativa\n",
            "Introduce la palabra que quieras eliminar del string original:\n",
            "Palabra: alternativa\n",
            "El camino está cerrado pero seguro que podemos encontrar una \n"
          ],
          "name": "stdout"
        }
      ]
    }
  ]
}